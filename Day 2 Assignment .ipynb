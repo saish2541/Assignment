{
 "cells": [
  {
   "cell_type": "code",
   "execution_count": 60,
   "metadata": {},
   "outputs": [
    {
     "name": "stdout",
     "output_type": "stream",
     "text": [
      "2\n",
      "34\n",
      "23\n",
      "345\n",
      "67\n",
      "87\n",
      "88\n",
      "90\n",
      "32\n",
      "33\n",
      "[2, 34, 88, 90, 32]\n"
     ]
    }
   ],
   "source": [
    "# Qyestion 1: Create an empty list. Accept 10 numbers from the user and append to it the list if it is an even number.\n",
    "l1=[]\n",
    "for i in range(0,10):\n",
    "    e=int(input())\n",
    "    l1.append(e)\n",
    "even=[]\n",
    "for num in l1:\n",
    "    if num%2==0:\n",
    "        even.append(num)\n",
    "print(even)"
   ]
  },
  {
   "cell_type": "markdown",
   "metadata": {},
   "source": [
    "Questions 2:\n",
    "LIST COMPREHENSION:\n",
    "List comprehension in Python is also surrounded by brackets, but instead of the list of data inside it, you enter an expression followed by for loop and if-else clauses.\n",
    "A most basic form of List comprehensions in Python are constructed as follows: list_variable = [expression for item in collection] The first expression generates elements in the list followed by a for loop over some collection of data which would evaluate the expression for every item in the collection."
   ]
  },
  {
   "cell_type": "code",
   "execution_count": 66,
   "metadata": {},
   "outputs": [
    {
     "name": "stdout",
     "output_type": "stream",
     "text": [
      "[0, 1, 4, 9, 16, 25, 36, 49, 64, 81]\n"
     ]
    }
   ],
   "source": [
    "#Example of LIST COMPREHENSION:\n",
    "#To print square of numbers from 0 to 9\n",
    "S = [x**2 for x in range(10)]\n",
    "print(S)"
   ]
  },
  {
   "cell_type": "code",
   "execution_count": 64,
   "metadata": {},
   "outputs": [
    {
     "name": "stdout",
     "output_type": "stream",
     "text": [
      "Enter number: 8\n",
      "{1: 1, 2: 4, 3: 9, 4: 16, 5: 25, 6: 36, 7: 49, 8: 64}\n"
     ]
    }
   ],
   "source": [
    "# Question 3:\n",
    "x=int(input(\"Enter number: \"))\n",
    "d={x:x ** 2 for x in range(1,x+1)}\n",
    "print(d)"
   ]
  },
  {
   "cell_type": "code",
   "execution_count": 18,
   "metadata": {},
   "outputs": [
    {
     "name": "stdout",
     "output_type": "stream",
     "text": [
      "4\n",
      "up 5\n",
      "down 3\n",
      "right 3\n",
      "left 2\n",
      "Distance of robot from origin is:  2\n"
     ]
    }
   ],
   "source": [
    "#Questions 4:\n",
    "import math\n",
    "n=int(input())\n",
    "l1=[]\n",
    "\n",
    "for i in range(0,n):\n",
    "    d=input().split()\n",
    "    d[1]=int(d[1])\n",
    "    l1.append(d)\n",
    "\n",
    "for j in range(0,n):\n",
    "    if l1[j][0]==\"up\":\n",
    "        a=l1[j][1]\n",
    "    if l1[j][0]==\"down\":\n",
    "        b=l1[j][1]\n",
    "    if l1[j][0]==\"right\":\n",
    "        c=l1[j][1]\n",
    "    if l1[j][0]==\"left\":\n",
    "        d=l1[j][1]\n",
    "        \n",
    "x=c-d\n",
    "y=a-b\n",
    "td=round(math.sqrt(x**2+y**2))\n",
    "print(\"Distance of robot from origin is: \",td)"
   ]
  }
 ],
 "metadata": {
  "kernelspec": {
   "display_name": "Python 3",
   "language": "python",
   "name": "python3"
  },
  "language_info": {
   "codemirror_mode": {
    "name": "ipython",
    "version": 3
   },
   "file_extension": ".py",
   "mimetype": "text/x-python",
   "name": "python",
   "nbconvert_exporter": "python",
   "pygments_lexer": "ipython3",
   "version": "3.8.3"
  }
 },
 "nbformat": 4,
 "nbformat_minor": 4
}
