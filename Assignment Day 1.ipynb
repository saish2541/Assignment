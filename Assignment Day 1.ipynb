{
 "cells": [
  {
   "cell_type": "raw",
   "metadata": {},
   "source": [
    "Question 1:\n",
    "Given the following jumbled word, OBANWRI guess the correct English word.\n",
    "Answer: B. RAINBOW.\n"
   ]
  },
  {
   "cell_type": "code",
   "execution_count": 2,
   "metadata": {},
   "outputs": [
    {
     "name": "stdout",
     "output_type": "stream",
     "text": [
      "LETS UPGRADE\n"
     ]
    }
   ],
   "source": [
    " # Question 2 : Program which prints “LETS UPGRADE”.\n",
    "print(\"LETS UPGRADE\")"
   ]
  },
  {
   "cell_type": "code",
   "execution_count": 4,
   "metadata": {},
   "outputs": [
    {
     "name": "stdout",
     "output_type": "stream",
     "text": [
      "50\n",
      "30\n",
      "Loss\n"
     ]
    }
   ],
   "source": [
    "# Question 3 : Program that takes cost price and selling price as input and displays whether the transaction is a Profit or a Loss or Neither.\n",
    "x=int(input())# cost\n",
    "y=int(input())# selling\n",
    "if x>y:\n",
    "    print(\"Loss\")\n",
    "elif x<y:\n",
    "    print(\"Profit\")\n",
    "else:\n",
    "    print(\"Neither\")"
   ]
  },
  {
   "cell_type": "code",
   "execution_count": 5,
   "metadata": {},
   "outputs": [
    {
     "name": "stdout",
     "output_type": "stream",
     "text": [
      "50\n",
      "4000\n"
     ]
    }
   ],
   "source": [
    "# Question 4 : Program to convert Euros to INR\n",
    "e=int(input())\n",
    "r=e*80\n",
    "print(r)"
   ]
  }
 ],
 "metadata": {
  "kernelspec": {
   "display_name": "Python 3",
   "language": "python",
   "name": "python3"
  },
  "language_info": {
   "codemirror_mode": {
    "name": "ipython",
    "version": 3
   },
   "file_extension": ".py",
   "mimetype": "text/x-python",
   "name": "python",
   "nbconvert_exporter": "python",
   "pygments_lexer": "ipython3",
   "version": "3.8.3"
  }
 },
 "nbformat": 4,
 "nbformat_minor": 4
}
