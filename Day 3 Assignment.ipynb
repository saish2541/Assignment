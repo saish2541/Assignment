{
 "cells": [
  {
   "cell_type": "code",
   "execution_count": 29,
   "metadata": {},
   "outputs": [],
   "source": [
    "import numpy as np"
   ]
  },
  {
   "cell_type": "code",
   "execution_count": 24,
   "metadata": {},
   "outputs": [
    {
     "name": "stdout",
     "output_type": "stream",
     "text": [
      "[ 2  5  8 11 14 17 20 23 26 29 32 35 38 41 44 47 50]\n"
     ]
    }
   ],
   "source": [
    "#Question 1: \n",
    "ar=np.array([i for i in range(2,51,3)])\n",
    "print(ar)"
   ]
  },
  {
   "cell_type": "code",
   "execution_count": 109,
   "metadata": {},
   "outputs": [
    {
     "name": "stdout",
     "output_type": "stream",
     "text": [
      "Enter the elements for first list: 45\n",
      "Enter the elements for first list: 12\n",
      "Enter the elements for first list: 78\n",
      "Enter the elements for first list: 43\n",
      "Enter the elements for first list: 10\n",
      "Enter the elements for second list: 0\n",
      "Enter the elements for second list: 41\n",
      "Enter the elements for second list: 58\n",
      "Enter the elements for second list: 11\n",
      "Enter the elements for second list: 1\n",
      "Concatenated array is: \n",
      " [[45 12 78 43 10]\n",
      " [ 0 41 58 11  1]]\n",
      "Sorted araay 1 is:  [[10 12 43 45 78]]\n",
      "Sorted araay 2 is:  [[ 0  1 11 41 58]]\n"
     ]
    }
   ],
   "source": [
    "#Question 2:\n",
    "l1=[]\n",
    "\n",
    "for i in range(0,5):\n",
    "    e=int(input(\"Enter the elements for first list: \"))\n",
    "    l1.append(e)\n",
    "l2=[]\n",
    "for j in range(0,5):\n",
    "    f=int(input(\"Enter the elements for second list: \"))\n",
    "    l2.append(f)\n",
    "arr1=np.array([l1])\n",
    "arr2=np.array([l2])\n",
    "print(\"Concatenated array is: \\n\",np.concatenate((arr1,arr2)))\n",
    "print(\"Sorted araay 1 is: \",np.sort(arr1))\n",
    "print(\"Sorted araay 2 is: \",np.sort(arr2))\n",
    "\n"
   ]
  },
  {
   "cell_type": "code",
   "execution_count": 37,
   "metadata": {},
   "outputs": [],
   "source": [
    "import numpy as np"
   ]
  },
  {
   "cell_type": "code",
   "execution_count": 47,
   "metadata": {},
   "outputs": [
    {
     "name": "stdout",
     "output_type": "stream",
     "text": [
      "[[23 43 54]\n",
      " [34  5 90]]\n",
      "<class 'numpy.ndarray'>\n",
      "Dimension is:  (2, 3)\n",
      "Size is:  6\n"
     ]
    }
   ],
   "source": [
    "#Questions 3:\n",
    "ar=np.array([[23,43,54],[34,5,90]])\n",
    "print(ar)\n",
    "print(type(ar))\n",
    "#dimensions:\n",
    "print(\"Dimension is: \",ar.shape)\n",
    "#size:\n",
    "print(\"Size is: \",ar.size)"
   ]
  },
  {
   "cell_type": "code",
   "execution_count": 67,
   "metadata": {},
   "outputs": [
    {
     "name": "stdout",
     "output_type": "stream",
     "text": [
      "[1 2 3 4]\n",
      "(4,)\n",
      "\n",
      "[[1]\n",
      " [2]\n",
      " [3]\n",
      " [4]]\n",
      "(4, 1)\n",
      "\n",
      "[[1 2 3 4]]\n",
      "(1, 4)\n"
     ]
    }
   ],
   "source": [
    "#Questions 4:\n",
    "import numpy as np\n",
    "ar=np.array([1,2,3,4])\n",
    "print(ar)\n",
    "print(ar.shape)\n",
    "print()\n",
    "y=np.expand_dims(ar,axis=1)\n",
    "print(y)\n",
    "print(y.shape)\n",
    "print()\n",
    "z=ar[np.newaxis]\n",
    "print(z)\n",
    "print(z.shape)"
   ]
  },
  {
   "cell_type": "code",
   "execution_count": 81,
   "metadata": {},
   "outputs": [],
   "source": [
    "import numpy as np"
   ]
  },
  {
   "cell_type": "code",
   "execution_count": 80,
   "metadata": {},
   "outputs": [
    {
     "name": "stdout",
     "output_type": "stream",
     "text": [
      "[[2 4 6]\n",
      " [5 4 3]\n",
      " [9 8 0]]\n",
      "[[12 34 56]\n",
      " [ 2 54  7]\n",
      " [ 7  5 10]]\n",
      "Stacking vertically: \n",
      " [[ 2  4  6]\n",
      " [ 5  4  3]\n",
      " [ 9  8  0]\n",
      " [12 34 56]\n",
      " [ 2 54  7]\n",
      " [ 7  5 10]]\n",
      "Stacking horizontally: \n",
      " [[ 2  4  6 12 34 56]\n",
      " [ 5  4  3  2 54  7]\n",
      " [ 9  8  0  7  5 10]]\n"
     ]
    }
   ],
   "source": [
    "#Questions 5:\n",
    "a=np.array([[2,4,6],[5,4,3],[9,8,0]])\n",
    "print(a)\n",
    "b=np.array([[12,34,56],[2,54,7],[7,5,10]])\n",
    "print(b)\n",
    "print(\"Stacking vertically: \\n\",np.vstack((a,b)))\n",
    "print(\"Stacking horizontally: \\n\",np.hstack((a,b)))"
   ]
  },
  {
   "cell_type": "code",
   "execution_count": 107,
   "metadata": {},
   "outputs": [
    {
     "name": "stdout",
     "output_type": "stream",
     "text": [
      "The unique items are:  [ 2 23 34 56 65 77]\n",
      "frequencies = \n",
      " [[ 2  2]\n",
      " [23  2]\n",
      " [34  2]\n",
      " [56  2]\n",
      " [65  1]\n",
      " [77  1]]\n"
     ]
    }
   ],
   "source": [
    "#Questions 6:\n",
    "a=np.array([2,34,23,34,56,77,65,2,23,56])\n",
    "print(\"The unique items are: \",np.unique(a))\n",
    "(unique, counts) = np.unique(a, return_counts=True)\n",
    "print(\"frequencies = \\n\",np.asarray((unique, counts)).T)"
   ]
  },
  {
   "cell_type": "code",
   "execution_count": null,
   "metadata": {},
   "outputs": [],
   "source": []
  }
 ],
 "metadata": {
  "kernelspec": {
   "display_name": "Python 3",
   "language": "python",
   "name": "python3"
  },
  "language_info": {
   "codemirror_mode": {
    "name": "ipython",
    "version": 3
   },
   "file_extension": ".py",
   "mimetype": "text/x-python",
   "name": "python",
   "nbconvert_exporter": "python",
   "pygments_lexer": "ipython3",
   "version": "3.8.3"
  }
 },
 "nbformat": 4,
 "nbformat_minor": 4
}
